{
  "nbformat": 4,
  "nbformat_minor": 0,
  "metadata": {
    "colab": {
      "provenance": [],
      "authorship_tag": "ABX9TyMER3DZEalwVn7JT8IVIvE4",
      "include_colab_link": true
    },
    "kernelspec": {
      "name": "python3",
      "display_name": "Python 3"
    },
    "language_info": {
      "name": "python"
    }
  },
  "cells": [
    {
      "cell_type": "markdown",
      "metadata": {
        "id": "view-in-github",
        "colab_type": "text"
      },
      "source": [
        "<a href=\"https://colab.research.google.com/github/bhavan-adithiya/CodeAlpha_Project_BhavanAdithiya/blob/main/student_grade_tracker.ipynb\" target=\"_parent\"><img src=\"https://colab.research.google.com/assets/colab-badge.svg\" alt=\"Open In Colab\"/></a>"
      ]
    },
    {
      "cell_type": "code",
      "execution_count": 1,
      "metadata": {
        "colab": {
          "base_uri": "https://localhost:8080/"
        },
        "id": "IlCkYZU_PVTr",
        "outputId": "bed0a4d7-5516-4c51-a8cf-d12aa7ba95d0"
      },
      "outputs": [
        {
          "output_type": "stream",
          "name": "stdout",
          "text": [
            "Welcome to the Student Grade Tracker!\n",
            "Enter the subject name (or 'done' to finish): maths\n",
            "Enter the grade for maths: 95\n",
            "Enter the subject name (or 'done' to finish): science\n",
            "Enter the grade for science: 26\n",
            "Enter the subject name (or 'done' to finish): done\n",
            "\n",
            "Subject-wise Grades:\n",
            "maths: 95.0\n",
            "science: 26.0\n",
            "\n",
            "Average Grade: 60.50\n"
          ]
        }
      ],
      "source": [
        "# student_grade_tracker.py\n",
        "\n",
        "def calculate_average(grades):\n",
        "    if not grades:\n",
        "        return 0\n",
        "    return sum(grades) / len(grades)\n",
        "\n",
        "def main():\n",
        "    print(\"Welcome to the Student Grade Tracker!\")\n",
        "\n",
        "    subjects = []\n",
        "    grades = []\n",
        "\n",
        "    while True:\n",
        "        subject = input(\"Enter the subject name (or 'done' to finish): \").strip()\n",
        "        if subject.lower() == 'done':\n",
        "            break\n",
        "\n",
        "        subjects.append(subject)\n",
        "\n",
        "        while True:\n",
        "            try:\n",
        "                grade = float(input(f\"Enter the grade for {subject}: \"))\n",
        "                if grade < 0 or grade > 100:\n",
        "                    print(\"Grade must be between 0 and 100.\")\n",
        "                else:\n",
        "                    grades.append(grade)\n",
        "                    break\n",
        "            except ValueError:\n",
        "                print(\"Invalid input. Please enter a valid number.\")\n",
        "\n",
        "    if grades:\n",
        "        average_grade = calculate_average(grades)\n",
        "        print(\"\\nSubject-wise Grades:\")\n",
        "        for i, subject in enumerate(subjects):\n",
        "            print(f\"{subject}: {grades[i]}\")\n",
        "\n",
        "        print(f\"\\nAverage Grade: {average_grade:.2f}\")\n",
        "    else:\n",
        "        print(\"No grades entered. Exiting.\")\n",
        "\n",
        "if __name__ == \"__main__\":\n",
        "    main()\n"
      ]
    },
    {
      "cell_type": "code",
      "source": [],
      "metadata": {
        "id": "MiE5UStRPnyI"
      },
      "execution_count": null,
      "outputs": []
    }
  ]
}